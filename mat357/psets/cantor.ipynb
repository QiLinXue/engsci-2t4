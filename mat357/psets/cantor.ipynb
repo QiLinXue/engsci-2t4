{
 "cells": [
  {
   "cell_type": "code",
   "execution_count": 14,
   "metadata": {},
   "outputs": [],
   "source": [
    "import numpy as np\n",
    "import matplotlib.pyplot as plt\n",
    "\n",
    "def convert_to_binary(i, n = 40):\n",
    "    '''\n",
    "    0 < i < 1 \n",
    "\n",
    "    Computes up to n decimals\n",
    "    '''\n",
    "    binary = []\n",
    "    while len(binary) < n:\n",
    "        i *= 2\n",
    "        if i >= 1:\n",
    "            binary.append(1)\n",
    "            i -= 1\n",
    "        else:\n",
    "            binary.append(0)\n",
    "    \n",
    "    return binary\n",
    "\n",
    "def swap_1_2(l):\n",
    "    ''' \n",
    "    Replaces 1 with 2 in a list \n",
    "    '''\n",
    "    return [2 if x == 1 else x for x in l]\n",
    "\n",
    "def base_3_to_decimal(l):\n",
    "    ''' \n",
    "    Converts a base 3 number to decimal \n",
    "    the number is <1\n",
    "    '''\n",
    "    return sum([x * 3**(-i-1) for i, x in enumerate(l)])\n",
    "\n",
    "def cantor(i, n = 40):\n",
    "    '''\n",
    "    0 < i < 1\n",
    "\n",
    "    Computes up to n decimals\n",
    "    '''\n",
    "    binary = convert_to_binary(i, n)\n",
    "    binary = swap_1_2(binary)\n",
    "    return base_3_to_decimal(binary)"
   ]
  },
  {
   "cell_type": "code",
   "execution_count": 29,
   "metadata": {},
   "outputs": [
    {
     "data": {
      "image/png": "[encoded data removed]",
      "text/plain": [
       "<Figure size 720x360 with 1 Axes>"
      ]
     },
     "metadata": {
      "needs_background": "light"
     },
     "output_type": "display_data"
    }
   ],
   "source": [
    "interval_01 = np.linspace(0, 1, 10000)\n",
    "interval_cantor = [cantor(x) for x in interval_01]\n",
    "y1 = np.ones(10000)\n",
    "y2 = -np.ones(10000)\n",
    "# Plot out interval_cantor\n",
    "plt.figure(figsize=(10, 5))\n",
    "plt.scatter(interval_cantor, y1, s=0.1)\n",
    "# plt.scatter(interval_01, y2, s=0.1)\n",
    "\n",
    "plt.show()"
   ]
  },
  {
   "cell_type": "code",
   "execution_count": null,
   "metadata": {},
   "outputs": [],
   "source": []
  }
 ],
 "metadata": {
  "kernelspec": {
   "display_name": "Python 3",
   "language": "python",
   "name": "python3"
  },
  "language_info": {
   "codemirror_mode": {
    "name": "ipython",
    "version": 3
   },
   "file_extension": ".py",
   "mimetype": "text/x-python",
   "name": "python",
   "nbconvert_exporter": "python",
   "pygments_lexer": "ipython3",
   "version": "3.8.10"
  },
  "orig_nbformat": 4,
  "vscode": {
   "interpreter": {
    "hash": "916dbcbb3f70747c44a77c7bcd40155683ae19c65e1c03b4aa3499c5328201f1"
   }
  }
 },
 "nbformat": 4,
 "nbformat_minor": 2
}
